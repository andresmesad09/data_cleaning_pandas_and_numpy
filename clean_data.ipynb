{
 "cells": [
  {
   "cell_type": "code",
   "execution_count": 4,
   "metadata": {},
   "outputs": [],
   "source": [
    "import pandas as pd\n",
    "import numpy as np\n",
    "from pathlib import Path"
   ]
  },
  {
   "cell_type": "code",
   "execution_count": 1,
   "metadata": {},
   "outputs": [
    {
     "name": "stdout",
     "output_type": "stream",
     "text": [
      "hello\n"
     ]
    }
   ],
   "source": [
    "print(\"hello\")"
   ]
  },
  {
   "cell_type": "markdown",
   "metadata": {},
   "source": [
    "# Olympics data set"
   ]
  },
  {
   "cell_type": "code",
   "execution_count": 5,
   "metadata": {},
   "outputs": [
    {
     "name": "stdout",
     "output_type": "stream",
     "text": [
      "file exists\n"
     ]
    }
   ],
   "source": [
    "file_path = Path().cwd() / \"data-sets\" / \"olympics.csv\"\n",
    "if file_path.exists():\n",
    "    print(\"file exists\")"
   ]
  },
  {
   "cell_type": "code",
   "execution_count": 39,
   "metadata": {},
   "outputs": [],
   "source": [
    "def read():\n",
    "    df = (\n",
    "        pd.read_csv(file_path, skiprows=[0])\n",
    "        .rename(columns={\n",
    "            'Unnamed: 0': 'country',\n",
    "            '? Summer': 'summer_olympics',\n",
    "            '01 !': 'summer_golds',\n",
    "            '02 !': 'summer_silvers',\n",
    "            '03 !': 'summer_bronzes',\n",
    "            'Total': 'summer_total',\n",
    "            '? Winter': 'winter_olympics',\n",
    "            '01 !.1': 'winter_golds',\n",
    "            '02 !.1': 'winter_silvers',\n",
    "            '03 !.1': 'winter_bronzes',\n",
    "            'Total.1': 'winter_total',\n",
    "            '? Games': 'total_games',\n",
    "            '01 !.2': 'total_golds',\n",
    "            '02 !.2': 'total_silvers',\n",
    "            '03 !.2': 'total_bronzes',\n",
    "            'Combined total': 'combined_total',\n",
    "            }\n",
    "            )\n",
    "    )\n",
    "    return df\n",
    "\n",
    "olympics = read()"
   ]
  },
  {
   "cell_type": "markdown",
   "metadata": {},
   "source": [
    "## Slicing in olympics"
   ]
  },
  {
   "cell_type": "markdown",
   "metadata": {},
   "source": [
    "**Why should we use `loc`?**\n",
    "- It can do everything that `.` ir `[]` can do\n",
    "- It's more explicit\n",
    "- It is more reliable\n",
    "- It is more flexible\n",
    "- It is more likely to be faster\n",
    "- It is easier to debug"
   ]
  },
  {
   "cell_type": "code",
   "execution_count": 60,
   "metadata": {},
   "outputs": [
    {
     "data": {
      "text/html": [
       "<div>\n",
       "<style scoped>\n",
       "    .dataframe tbody tr th:only-of-type {\n",
       "        vertical-align: middle;\n",
       "    }\n",
       "\n",
       "    .dataframe tbody tr th {\n",
       "        vertical-align: top;\n",
       "    }\n",
       "\n",
       "    .dataframe thead th {\n",
       "        text-align: right;\n",
       "    }\n",
       "</style>\n",
       "<table border=\"1\" class=\"dataframe\">\n",
       "  <thead>\n",
       "    <tr style=\"text-align: right;\">\n",
       "      <th></th>\n",
       "      <th>country</th>\n",
       "      <th>summer_olympics</th>\n",
       "      <th>summer_golds</th>\n",
       "      <th>summer_silvers</th>\n",
       "      <th>summer_bronzes</th>\n",
       "      <th>summer_total</th>\n",
       "    </tr>\n",
       "  </thead>\n",
       "  <tbody>\n",
       "    <tr>\n",
       "      <th>0</th>\n",
       "      <td>Afghanistan (AFG)</td>\n",
       "      <td>13</td>\n",
       "      <td>0</td>\n",
       "      <td>0</td>\n",
       "      <td>2</td>\n",
       "      <td>2</td>\n",
       "    </tr>\n",
       "    <tr>\n",
       "      <th>20</th>\n",
       "      <td>Cameroon (CMR)</td>\n",
       "      <td>13</td>\n",
       "      <td>3</td>\n",
       "      <td>1</td>\n",
       "      <td>1</td>\n",
       "      <td>5</td>\n",
       "    </tr>\n",
       "    <tr>\n",
       "      <th>34</th>\n",
       "      <td>Dominican Republic (DOM)</td>\n",
       "      <td>13</td>\n",
       "      <td>3</td>\n",
       "      <td>2</td>\n",
       "      <td>1</td>\n",
       "      <td>6</td>\n",
       "    </tr>\n",
       "    <tr>\n",
       "      <th>35</th>\n",
       "      <td>Ecuador (ECU)</td>\n",
       "      <td>13</td>\n",
       "      <td>1</td>\n",
       "      <td>1</td>\n",
       "      <td>0</td>\n",
       "      <td>2</td>\n",
       "    </tr>\n",
       "    <tr>\n",
       "      <th>48</th>\n",
       "      <td>Ghana (GHA) [GHA]</td>\n",
       "      <td>13</td>\n",
       "      <td>0</td>\n",
       "      <td>1</td>\n",
       "      <td>3</td>\n",
       "      <td>4</td>\n",
       "    </tr>\n",
       "    <tr>\n",
       "      <th>52</th>\n",
       "      <td>Guatemala (GUA)</td>\n",
       "      <td>13</td>\n",
       "      <td>0</td>\n",
       "      <td>1</td>\n",
       "      <td>0</td>\n",
       "      <td>1</td>\n",
       "    </tr>\n",
       "    <tr>\n",
       "      <th>61</th>\n",
       "      <td>Iraq (IRQ)</td>\n",
       "      <td>13</td>\n",
       "      <td>0</td>\n",
       "      <td>0</td>\n",
       "      <td>1</td>\n",
       "      <td>1</td>\n",
       "    </tr>\n",
       "    <tr>\n",
       "      <th>68</th>\n",
       "      <td>Kenya (KEN)</td>\n",
       "      <td>13</td>\n",
       "      <td>25</td>\n",
       "      <td>32</td>\n",
       "      <td>29</td>\n",
       "      <td>86</td>\n",
       "    </tr>\n",
       "    <tr>\n",
       "      <th>85</th>\n",
       "      <td>Morocco (MAR)</td>\n",
       "      <td>13</td>\n",
       "      <td>6</td>\n",
       "      <td>5</td>\n",
       "      <td>11</td>\n",
       "      <td>22</td>\n",
       "    </tr>\n",
       "    <tr>\n",
       "      <th>89</th>\n",
       "      <td>Netherlands Antilles (AHO) [AHO] [I]</td>\n",
       "      <td>13</td>\n",
       "      <td>0</td>\n",
       "      <td>1</td>\n",
       "      <td>0</td>\n",
       "      <td>1</td>\n",
       "    </tr>\n",
       "    <tr>\n",
       "      <th>109</th>\n",
       "      <td>Senegal (SEN)</td>\n",
       "      <td>13</td>\n",
       "      <td>0</td>\n",
       "      <td>1</td>\n",
       "      <td>0</td>\n",
       "      <td>1</td>\n",
       "    </tr>\n",
       "    <tr>\n",
       "      <th>123</th>\n",
       "      <td>Chinese Taipei (TPE) [TPE] [TPE2]</td>\n",
       "      <td>13</td>\n",
       "      <td>2</td>\n",
       "      <td>7</td>\n",
       "      <td>12</td>\n",
       "      <td>21</td>\n",
       "    </tr>\n",
       "    <tr>\n",
       "      <th>130</th>\n",
       "      <td>Tunisia (TUN)</td>\n",
       "      <td>13</td>\n",
       "      <td>3</td>\n",
       "      <td>3</td>\n",
       "      <td>4</td>\n",
       "      <td>10</td>\n",
       "    </tr>\n",
       "  </tbody>\n",
       "</table>\n",
       "</div>"
      ],
      "text/plain": [
       "                                  country  summer_olympics  summer_golds  \\\n",
       "0                       Afghanistan (AFG)               13             0   \n",
       "20                         Cameroon (CMR)               13             3   \n",
       "34               Dominican Republic (DOM)               13             3   \n",
       "35                          Ecuador (ECU)               13             1   \n",
       "48                      Ghana (GHA) [GHA]               13             0   \n",
       "52                        Guatemala (GUA)               13             0   \n",
       "61                             Iraq (IRQ)               13             0   \n",
       "68                            Kenya (KEN)               13            25   \n",
       "85                          Morocco (MAR)               13             6   \n",
       "89   Netherlands Antilles (AHO) [AHO] [I]               13             0   \n",
       "109                         Senegal (SEN)               13             0   \n",
       "123     Chinese Taipei (TPE) [TPE] [TPE2]               13             2   \n",
       "130                         Tunisia (TUN)               13             3   \n",
       "\n",
       "     summer_silvers  summer_bronzes  summer_total  \n",
       "0                 0               2             2  \n",
       "20                1               1             5  \n",
       "34                2               1             6  \n",
       "35                1               0             2  \n",
       "48                1               3             4  \n",
       "52                1               0             1  \n",
       "61                0               1             1  \n",
       "68               32              29            86  \n",
       "85                5              11            22  \n",
       "89                1               0             1  \n",
       "109               1               0             1  \n",
       "123               7              12            21  \n",
       "130               3               4            10  "
      ]
     },
     "execution_count": 60,
     "metadata": {},
     "output_type": "execute_result"
    }
   ],
   "source": [
    "olympics.loc[ olympics.loc[:,\"summer_olympics\"] == 13 , \"country\":\"summer_total\" ]"
   ]
  },
  {
   "cell_type": "markdown",
   "metadata": {},
   "source": [
    "# Exploring University Towns data set"
   ]
  },
  {
   "cell_type": "markdown",
   "metadata": {},
   "source": []
  }
 ],
 "metadata": {
  "interpreter": {
   "hash": "e52807ec26739874bb61769987b75d746cfceb5270c6c837a81034f1901c6399"
  },
  "kernelspec": {
   "display_name": "Python 3.8.8 ('venv': venv)",
   "language": "python",
   "name": "python3"
  },
  "language_info": {
   "codemirror_mode": {
    "name": "ipython",
    "version": 3
   },
   "file_extension": ".py",
   "mimetype": "text/x-python",
   "name": "python",
   "nbconvert_exporter": "python",
   "pygments_lexer": "ipython3",
   "version": "3.8.8"
  },
  "orig_nbformat": 4
 },
 "nbformat": 4,
 "nbformat_minor": 2
}
